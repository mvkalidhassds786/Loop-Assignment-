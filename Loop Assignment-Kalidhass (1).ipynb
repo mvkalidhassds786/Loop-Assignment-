{
 "cells": [
  {
   "cell_type": "code",
   "execution_count": 8,
   "id": "e74c79ce",
   "metadata": {},
   "outputs": [],
   "source": [
    "review=\"Liked - Top notch display, gorgeous display, heavyly and seriously powerful device thanks to 8+ gen 1. Tremendous battery life in heavy usage. Super cool device. Silky buttery experience with blazing fast performance. good sound quality. The form factor is really good. \""
   ]
  },
  {
   "cell_type": "code",
   "execution_count": 9,
   "id": "e1ae3e33",
   "metadata": {},
   "outputs": [
    {
     "data": {
      "text/plain": [
       "'Liked - Top notch display, gorgeous display, heavyly and seriously powerful device thanks to 8+ gen 1. Tremendous battery life in heavy usage. Super cool device. Silky buttery experience with blazing fast performance. good sound quality. The form factor is really good. '"
      ]
     },
     "execution_count": 9,
     "metadata": {},
     "output_type": "execute_result"
    }
   ],
   "source": [
    "review"
   ]
  },
  {
   "cell_type": "code",
   "execution_count": 24,
   "id": "86329a3d",
   "metadata": {},
   "outputs": [],
   "source": [
    "x=review.split()"
   ]
  },
  {
   "cell_type": "code",
   "execution_count": 25,
   "id": "69697ba8",
   "metadata": {},
   "outputs": [
    {
     "data": {
      "text/plain": [
       "['Liked',\n",
       " '-',\n",
       " 'Top',\n",
       " 'notch',\n",
       " 'display,',\n",
       " 'gorgeous',\n",
       " 'display,',\n",
       " 'heavyly',\n",
       " 'and',\n",
       " 'seriously',\n",
       " 'powerful',\n",
       " 'device',\n",
       " 'thanks',\n",
       " 'to',\n",
       " '8+',\n",
       " 'gen',\n",
       " '1.',\n",
       " 'Tremendous',\n",
       " 'battery',\n",
       " 'life',\n",
       " 'in',\n",
       " 'heavy',\n",
       " 'usage.',\n",
       " 'Super',\n",
       " 'cool',\n",
       " 'device.',\n",
       " 'Silky',\n",
       " 'buttery',\n",
       " 'experience',\n",
       " 'with',\n",
       " 'blazing',\n",
       " 'fast',\n",
       " 'performance.',\n",
       " 'good',\n",
       " 'sound',\n",
       " 'quality.',\n",
       " 'The',\n",
       " 'form',\n",
       " 'factor',\n",
       " 'is',\n",
       " 'really',\n",
       " 'good.']"
      ]
     },
     "execution_count": 25,
     "metadata": {},
     "output_type": "execute_result"
    }
   ],
   "source": [
    "x"
   ]
  },
  {
   "cell_type": "code",
   "execution_count": null,
   "id": "3a9f6c40",
   "metadata": {},
   "outputs": [],
   "source": [
    "#1.Find the number of words that has even length and length should be greater than 6"
   ]
  },
  {
   "cell_type": "code",
   "execution_count": 27,
   "id": "9fad4d49",
   "metadata": {},
   "outputs": [
    {
     "name": "stdout",
     "output_type": "stream",
     "text": [
      "13\n"
     ]
    }
   ],
   "source": [
    "even_words=0\n",
    "for i in x:\n",
    "    if len(i)%2==0 and len(i)>=6:\n",
    "        even_words=even_words+1\n",
    "print(even_words)"
   ]
  },
  {
   "cell_type": "code",
   "execution_count": null,
   "id": "0f320d4b",
   "metadata": {},
   "outputs": [],
   "source": [
    "#2.Find the number of vowels and consonants"
   ]
  },
  {
   "cell_type": "code",
   "execution_count": 34,
   "id": "f8844445",
   "metadata": {},
   "outputs": [
    {
     "name": "stdout",
     "output_type": "stream",
     "text": [
      "81\n",
      "135\n"
     ]
    }
   ],
   "source": [
    "vowels_number=0\n",
    "consonant_number=0\n",
    "for i in review:\n",
    "    if i in 'aeiou':\n",
    "        vowels_number=vowels_number+1\n",
    "    elif i.isalpha():\n",
    "        consonant_number=consonant_number+1\n",
    "print(vowels_number)\n",
    "print(consonant_number)"
   ]
  },
  {
   "cell_type": "code",
   "execution_count": null,
   "id": "97dc421a",
   "metadata": {},
   "outputs": [],
   "source": [
    "#3.Count the number of words that has capital and small"
   ]
  },
  {
   "cell_type": "code",
   "execution_count": 40,
   "id": "0f9af3c0",
   "metadata": {},
   "outputs": [
    {
     "name": "stdout",
     "output_type": "stream",
     "text": [
      "6\n",
      "36\n"
     ]
    }
   ],
   "source": [
    "capital_number=0\n",
    "small_number=0\n",
    "for i in x:\n",
    "    if i.istitle():\n",
    "        capital_number=capital_number+1\n",
    "    else:\n",
    "        small_number=small_number+1\n",
    "print(capital_number)\n",
    "print(small_number)\n",
    "    "
   ]
  },
  {
   "cell_type": "code",
   "execution_count": null,
   "id": "dfc79043",
   "metadata": {},
   "outputs": [],
   "source": [
    "#4.count the number of words that ends with \"e\""
   ]
  },
  {
   "cell_type": "code",
   "execution_count": 41,
   "id": "953f1637",
   "metadata": {},
   "outputs": [
    {
     "name": "stdout",
     "output_type": "stream",
     "text": [
      "4\n"
     ]
    }
   ],
   "source": [
    "e_number=0\n",
    "for i in x:\n",
    "    if i.endswith('e'):\n",
    "        e_number=e_number+1\n",
    "print(e_number)"
   ]
  },
  {
   "cell_type": "code",
   "execution_count": null,
   "id": "ed01efea",
   "metadata": {},
   "outputs": [],
   "source": [
    "#5.Count the number of words that has starting letter as capital or number"
   ]
  },
  {
   "cell_type": "code",
   "execution_count": 59,
   "id": "aa8ee978",
   "metadata": {},
   "outputs": [
    {
     "name": "stdout",
     "output_type": "stream",
     "text": [
      "8\n"
     ]
    }
   ],
   "source": [
    "capnum_word=0\n",
    "for i in x:\n",
    "    if i[0].istitle() or i[0].isnumeric():\n",
    "        capnum_word=capnum_word+1\n",
    "print(capnum_word)"
   ]
  },
  {
   "cell_type": "code",
   "execution_count": null,
   "id": "2bd23cd8",
   "metadata": {},
   "outputs": [],
   "source": [
    "#6. Find the difference between even length words and odd length words"
   ]
  },
  {
   "cell_type": "code",
   "execution_count": 77,
   "id": "8335e38e",
   "metadata": {},
   "outputs": [
    {
     "name": "stdout",
     "output_type": "stream",
     "text": [
      "24\n",
      "18\n",
      "6\n"
     ]
    }
   ],
   "source": [
    "even_length=0\n",
    "odd_length=0\n",
    "for i in x:\n",
    "    if len(i)%2==0:\n",
    "        even_length=even_length+1\n",
    "    else:\n",
    "        odd_length=odd_length+1\n",
    "diff=even_length-odd_length\n",
    "print(even_length)\n",
    "print(odd_length)\n",
    "print(diff)"
   ]
  },
  {
   "cell_type": "code",
   "execution_count": null,
   "id": "f330ef0d",
   "metadata": {},
   "outputs": [],
   "source": [
    "#7.Reverse each word in a string"
   ]
  },
  {
   "cell_type": "code",
   "execution_count": 158,
   "id": "7031db55",
   "metadata": {},
   "outputs": [
    {
     "name": "stdout",
     "output_type": "stream",
     "text": [
      "dekiL-poThcton,yalpsidsuoegrog,yalpsidylyvaehdnaylsuoireslufrewopecivedsknahtot+8neg.1suodnemerTyrettabefilniyvaeh.egasurepuSlooc.ecivedykliSyrettubecneirepxehtiwgnizalbtsaf.ecnamrofrepdoogdnuos.ytilauqehTmrofrotcafsiyllaer.doog\n"
     ]
    }
   ],
   "source": [
    "reverse_word=\"\"\n",
    "\n",
    "for i in x:\n",
    "    s=\"\"\n",
    "    for j in i:\n",
    "        s=j+s\n",
    "    reverse_word+=s\n",
    "print(reverse_word)"
   ]
  },
  {
   "cell_type": "code",
   "execution_count": null,
   "id": "f89e6770",
   "metadata": {},
   "outputs": [],
   "source": [
    "#8. Store the words that starts with \"a\" and length is odd"
   ]
  },
  {
   "cell_type": "code",
   "execution_count": 159,
   "id": "8478c159",
   "metadata": {},
   "outputs": [
    {
     "name": "stdout",
     "output_type": "stream",
     "text": [
      "1\n"
     ]
    }
   ],
   "source": [
    "a_odd_words=0\n",
    "for i in x:\n",
    "    if len(i)%2!=0 and i.startswith('a'):\n",
    "        a_odd_words=a_odd_words+1\n",
    "print(a_odd_words)"
   ]
  },
  {
   "cell_type": "code",
   "execution_count": null,
   "id": "c645d3ae",
   "metadata": {},
   "outputs": [],
   "source": []
  },
  {
   "cell_type": "code",
   "execution_count": null,
   "id": "88411b7b",
   "metadata": {},
   "outputs": [],
   "source": []
  },
  {
   "cell_type": "code",
   "execution_count": null,
   "id": "70b44c4f",
   "metadata": {},
   "outputs": [],
   "source": []
  },
  {
   "cell_type": "code",
   "execution_count": null,
   "id": "aa8c420e",
   "metadata": {},
   "outputs": [],
   "source": []
  },
  {
   "cell_type": "code",
   "execution_count": null,
   "id": "27df544d",
   "metadata": {},
   "outputs": [],
   "source": []
  },
  {
   "cell_type": "code",
   "execution_count": null,
   "id": "100a2fcd",
   "metadata": {},
   "outputs": [],
   "source": []
  }
 ],
 "metadata": {
  "kernelspec": {
   "display_name": "Python 3 (ipykernel)",
   "language": "python",
   "name": "python3"
  },
  "language_info": {
   "codemirror_mode": {
    "name": "ipython",
    "version": 3
   },
   "file_extension": ".py",
   "mimetype": "text/x-python",
   "name": "python",
   "nbconvert_exporter": "python",
   "pygments_lexer": "ipython3",
   "version": "3.9.12"
  }
 },
 "nbformat": 4,
 "nbformat_minor": 5
}
